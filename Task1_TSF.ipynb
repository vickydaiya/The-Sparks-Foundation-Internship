{
  "nbformat": 4,
  "nbformat_minor": 0,
  "metadata": {
    "colab": {
      "name": "Task1_TSF.ipynb",
      "provenance": [],
      "collapsed_sections": [],
      "authorship_tag": "ABX9TyPFVmTs1UrwEAiYK1axLhu8",
      "include_colab_link": true
    },
    "kernelspec": {
      "name": "python3",
      "display_name": "Python 3"
    }
  },
  "cells": [
    {
      "cell_type": "markdown",
      "metadata": {
        "id": "view-in-github",
        "colab_type": "text"
      },
      "source": [
        "<a href=\"https://colab.research.google.com/github/vickydaiya/The-Sparks-Foundation-Internship/blob/main/Task1_TSF.ipynb\" target=\"_parent\"><img src=\"https://colab.research.google.com/assets/colab-badge.svg\" alt=\"Open In Colab\"/></a>"
      ]
    },
    {
      "cell_type": "markdown",
      "metadata": {
        "id": "m3uxl80dbrOt"
      },
      "source": [
        "## **Importing the required libraries and functions**"
      ]
    },
    {
      "cell_type": "code",
      "metadata": {
        "id": "4so495q-Of1z"
      },
      "source": [
        "import pandas as pd\n",
        "import matplotlib.pyplot as plt\n",
        "import numpy as np\n",
        "from sklearn.model_selection import train_test_split\n",
        "from sklearn.linear_model import LinearRegression\n",
        "from sklearn.metrics import mean_squared_error"
      ],
      "execution_count": 39,
      "outputs": []
    },
    {
      "cell_type": "markdown",
      "metadata": {
        "id": "3vv-tMJJcE0i"
      },
      "source": [
        "## **Importing the data into a dataframe and splitting into train and test sets**"
      ]
    },
    {
      "cell_type": "code",
      "metadata": {
        "id": "2nrntkbKPkYg",
        "colab": {
          "base_uri": "https://localhost:8080/"
        },
        "outputId": "2df49525-7485-4950-ebaf-71307ac87900"
      },
      "source": [
        "url = \"http://bit.ly/w-data\"\n",
        "data = pd.read_csv(url)\n",
        "\n",
        "print(data.head(4))\n",
        "\n",
        "x = np.array(data['Hours']).reshape((-1, 1))\n",
        "y = np.array(data['Scores'])\n",
        "\n",
        "x_train, x_test, y_train, y_test = train_test_split(x,y,test_size = 0.2)"
      ],
      "execution_count": 40,
      "outputs": [
        {
          "output_type": "stream",
          "text": [
            "   Hours  Scores\n",
            "0    2.5      21\n",
            "1    5.1      47\n",
            "2    3.2      27\n",
            "3    8.5      75\n"
          ],
          "name": "stdout"
        }
      ]
    },
    {
      "cell_type": "markdown",
      "metadata": {
        "id": "eyj8ZzALcilL"
      },
      "source": [
        "## **Visualizing train data**"
      ]
    },
    {
      "cell_type": "code",
      "metadata": {
        "id": "sx_9iETKKvuN",
        "colab": {
          "base_uri": "https://localhost:8080/",
          "height": 295
        },
        "outputId": "0666aebf-ca8a-4932-d154-d712789da346"
      },
      "source": [
        "plt.scatter(x=x_train.reshape(-1),y=y_train)\r\n",
        "plt.grid()\r\n",
        "plt.title('Hours vs Percentage')  \r\n",
        "plt.xlabel('Hours Studied per day')  \r\n",
        "plt.ylabel('Percentage Score')\r\n",
        "plt.show()"
      ],
      "execution_count": 41,
      "outputs": [
        {
          "output_type": "display_data",
          "data": {
            "image/png": "[encoded data removed]",
            "text/plain": [
              "<Figure size 432x288 with 1 Axes>"
            ]
          },
          "metadata": {
            "tags": [],
            "needs_background": "light"
          }
        }
      ]
    },
    {
      "cell_type": "markdown",
      "metadata": {
        "id": "pR9Ev7zTcrTt"
      },
      "source": [
        "## **Fitting a linear regression model**"
      ]
    },
    {
      "cell_type": "code",
      "metadata": {
        "colab": {
          "base_uri": "https://localhost:8080/",
          "height": 313
        },
        "id": "n9GHj1jp7oiJ",
        "outputId": "09370606-8867-425e-804c-2402b9585f31"
      },
      "source": [
        "model = LinearRegression()\r\n",
        "\r\n",
        "model.fit(x_train,y_train)\r\n",
        "\r\n",
        "plt.scatter(x=x_train.reshape(-1),y=y_train)\r\n",
        "plt.grid()\r\n",
        "plt.plot(x_train,model.intercept_ + model.coef_*x_train,color = 'r')\r\n",
        "plt.title('Hours vs Percentage')\r\n",
        "plt.xlabel('Hours Studied per day')  \r\n",
        "plt.ylabel('Percentage Score')\r\n",
        "plt.show()\r\n"
      ],
      "execution_count": 42,
      "outputs": [
        {
          "output_type": "stream",
          "text": [
            "Root mean squared error (predicting for test set with the trained model): 5.2491576608511465\n"
          ],
          "name": "stdout"
        },
        {
          "output_type": "display_data",
          "data": {
            "image/png": "[encoded data removed]",
            "text/plain": [
              "<Figure size 432x288 with 1 Axes>"
            ]
          },
          "metadata": {
            "tags": [],
            "needs_background": "light"
          }
        }
      ]
    },
    {
      "cell_type": "markdown",
      "metadata": {
        "id": "sow_9m4VfPY7"
      },
      "source": [
        "## **Model performance**"
      ]
    },
    {
      "cell_type": "code",
      "metadata": {
        "colab": {
          "base_uri": "https://localhost:8080/"
        },
        "id": "K0PHgv4wfTn2",
        "outputId": "547082a8-e17c-4abc-be55-9e61bcdaa660"
      },
      "source": [
        "print(\"Root mean squared error (predicting for test set with the trained model):\",mean_squared_error(y_test, model.predict(x_test), squared=False))"
      ],
      "execution_count": 44,
      "outputs": [
        {
          "output_type": "stream",
          "text": [
            "Root mean squared error (predicting for test set with the trained model): 5.2491576608511465\n"
          ],
          "name": "stdout"
        }
      ]
    },
    {
      "cell_type": "markdown",
      "metadata": {
        "id": "p-dfd1aWc798"
      },
      "source": [
        "## **Predicting percentage score for a student who studies 9.25 hrs/day**"
      ]
    },
    {
      "cell_type": "code",
      "metadata": {
        "colab": {
          "base_uri": "https://localhost:8080/"
        },
        "id": "zKcrGMoZdhci",
        "outputId": "c25f399a-0264-415f-e44f-bd18d2a69821"
      },
      "source": [
        "print(\"Predicted percentage score: \",float(model.predict(np.array(9.25).reshape(-1,1))))"
      ],
      "execution_count": 43,
      "outputs": [
        {
          "output_type": "stream",
          "text": [
            "Predicted percentage score:  92.5333848538589\n"
          ],
          "name": "stdout"
        }
      ]
    }
  ]
}